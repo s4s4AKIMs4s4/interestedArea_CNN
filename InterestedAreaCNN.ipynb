{
  "cells": [
    {
      "cell_type": "code",
      "source": [],
      "metadata": {
        "id": "hKluqT01o3aH"
      },
      "execution_count": null,
      "outputs": []
    },
    {
      "cell_type": "code",
      "execution_count": null,
      "metadata": {
        "colab": {
          "base_uri": "https://localhost:8080/"
        },
        "id": "rI9LusjYIEP4",
        "outputId": "8a9ad0b7-9f1b-4a43-f0d2-af73f998e829"
      },
      "outputs": [
        {
          "output_type": "stream",
          "name": "stdout",
          "text": [
            "Drive already mounted at /content/drive; to attempt to forcibly remount, call drive.mount(\"/content/drive\", force_remount=True).\n"
          ]
        }
      ],
      "source": [
        "# подключаем личный диск к блокноту\n",
        "from google.colab import drive\n",
        "drive.mount('/content/drive')"
      ]
    },
    {
      "cell_type": "code",
      "source": [
        "import os\n"
      ],
      "metadata": {
        "id": "IeR1c9-TAuMn"
      },
      "execution_count": null,
      "outputs": []
    },
    {
      "cell_type": "code",
      "source": [
        "base_path = '/content/drive/MyDrive/newML/newMl/'"
      ],
      "metadata": {
        "id": "3-uNilMFTxCX"
      },
      "execution_count": null,
      "outputs": []
    },
    {
      "cell_type": "code",
      "source": [
        "arrPneumPath = base_path + 'pneumonia'\n",
        "arrTubPath =  base_path + 'tuberculosis'\n",
        "arrCanPath =   base_path + 'сancer'"
      ],
      "metadata": {
        "id": "fGFgT6SgDA3u"
      },
      "execution_count": null,
      "outputs": []
    },
    {
      "cell_type": "code",
      "source": [
        "def addPath(path):\n",
        "  paths = []\n",
        "  for root, dirs, files in os.walk(path):\n",
        "      if(len(files) == 0):\n",
        "        continue\n",
        "      folder = files[0].split('.csv')[0]\n",
        "      paths.append(os.path.join(path,folder) + '/' + files[0])\n",
        "  return paths"
      ],
      "metadata": {
        "id": "KeWz2XqdDHoR"
      },
      "execution_count": null,
      "outputs": []
    },
    {
      "cell_type": "code",
      "source": [
        "arrPneum=addPath(arrPneumPath)\n",
        "arrTub=addPath(arrTubPath)\n",
        "arrCan=addPath(arrCanPath)"
      ],
      "metadata": {
        "id": "aKDBmDgnDiMg"
      },
      "execution_count": null,
      "outputs": []
    },
    {
      "cell_type": "code",
      "source": [
        "arrTub"
      ],
      "metadata": {
        "colab": {
          "base_uri": "https://localhost:8080/"
        },
        "id": "xmZgBGLtRgWP",
        "outputId": "e296bbbe-6da0-4538-936c-06c32608fb45"
      },
      "execution_count": null,
      "outputs": [
        {
          "output_type": "execute_result",
          "data": {
            "text/plain": [
              "['/content/drive/MyDrive/newML/newMl/tuberculosis/1.2.392.200036.9116.2.5.1.16.1613468577.1235620439.998304/1.2.392.200036.9116.2.5.1.16.1613468577.1235620439.998304.csv',\n",
              " '/content/drive/MyDrive/newML/newMl/tuberculosis/1.2.392.200036.9116.2.5.1.16.1613468577.1282785240.99768/1.2.392.200036.9116.2.5.1.16.1613468577.1282785240.99768.csv',\n",
              " '/content/drive/MyDrive/newML/newMl/tuberculosis/1.2.392.200036.9116.2.5.1.16.1613468577.1296700129.318940/1.2.392.200036.9116.2.5.1.16.1613468577.1296700129.318940.csv',\n",
              " '/content/drive/MyDrive/newML/newMl/tuberculosis/1.2.392.200036.9116.2.5.1.16.1613468577.1291764935.315084/1.2.392.200036.9116.2.5.1.16.1613468577.1291764935.315084.csv',\n",
              " '/content/drive/MyDrive/newML/newMl/tuberculosis/1.2.392.200036.9116.2.5.1.16.1613468577.1300066906.181866/1.2.392.200036.9116.2.5.1.16.1613468577.1300066906.181866.csv',\n",
              " '/content/drive/MyDrive/newML/newMl/tuberculosis/1.2.392.200036.9116.2.5.1.16.1613468577.1305260693.817034/1.2.392.200036.9116.2.5.1.16.1613468577.1305260693.817034.csv',\n",
              " '/content/drive/MyDrive/newML/newMl/tuberculosis/1.2.392.200036.9116.2.5.1.16.1613468577.1301280229.709447/1.2.392.200036.9116.2.5.1.16.1613468577.1301280229.709447.csv',\n",
              " '/content/drive/MyDrive/newML/newMl/tuberculosis/1.2.392.200036.9116.2.5.1.16.1613468577.1299714017.631439/1.2.392.200036.9116.2.5.1.16.1613468577.1299714017.631439.csv',\n",
              " '/content/drive/MyDrive/newML/newMl/tuberculosis/1.2.392.200036.9116.2.6.1.48.1211466065.1246930553.944768/1.2.392.200036.9116.2.6.1.48.1211466065.1246930553.944768.csv',\n",
              " '/content/drive/MyDrive/newML/newMl/tuberculosis/1.2.392.200036.9116.2.6.1.48.1211466065.1251941987.367119/1.2.392.200036.9116.2.6.1.48.1211466065.1251941987.367119.csv',\n",
              " '/content/drive/MyDrive/newML/newMl/tuberculosis/1.2.392.200036.9116.2.6.1.48.1211466065.1308188231.306413/1.2.392.200036.9116.2.6.1.48.1211466065.1308188231.306413.csv',\n",
              " '/content/drive/MyDrive/newML/newMl/tuberculosis/1.2.392.200036.9116.2.6.1.48.1211466065.1305191098.301443/1.2.392.200036.9116.2.6.1.48.1211466065.1305191098.301443.csv',\n",
              " '/content/drive/MyDrive/newML/newMl/tuberculosis/1.2.392.200036.9116.2.6.1.48.1211466065.1269646871.39382/1.2.392.200036.9116.2.6.1.48.1211466065.1269646871.39382.csv',\n",
              " '/content/drive/MyDrive/newML/newMl/tuberculosis/1.2.392.200036.9116.2.6.1.48.1211466065.1254307290.591339/1.2.392.200036.9116.2.6.1.48.1211466065.1254307290.591339.csv',\n",
              " '/content/drive/MyDrive/newML/newMl/tuberculosis/1.2.392.200036.9116.2.6.1.48.1211466065.1284113385.969236/1.2.392.200036.9116.2.6.1.48.1211466065.1284113385.969236.csv',\n",
              " '/content/drive/MyDrive/newML/newMl/tuberculosis/1.2.392.200036.9116.2.6.1.48.1211466065.1267058873.353004/1.2.392.200036.9116.2.6.1.48.1211466065.1267058873.353004.csv',\n",
              " '/content/drive/MyDrive/newML/newMl/tuberculosis/1.2.392.200036.9116.2.6.1.48.1211466065.1305709049.231311/1.2.392.200036.9116.2.6.1.48.1211466065.1305709049.231311.csv',\n",
              " '/content/drive/MyDrive/newML/newMl/tuberculosis/1.2.392.200036.9116.2.6.1.48.1211466065.1263293009.354116/1.2.392.200036.9116.2.6.1.48.1211466065.1263293009.354116.csv',\n",
              " '/content/drive/MyDrive/newML/newMl/tuberculosis/1.2.392.200036.9116.2.6.1.48.1211466065.1284421459.801319/1.2.392.200036.9116.2.6.1.48.1211466065.1284421459.801319.csv',\n",
              " '/content/drive/MyDrive/newML/newMl/tuberculosis/1.2.392.200036.9116.2.6.1.48.1211466065.1309568372.866578/1.2.392.200036.9116.2.6.1.48.1211466065.1309568372.866578.csv',\n",
              " '/content/drive/MyDrive/newML/newMl/tuberculosis/1.2.392.200036.9116.2.5.1.16.1613468577.1283814922.468141_1/1.2.392.200036.9116.2.5.1.16.1613468577.1283814922.468141_1.csv',\n",
              " '/content/drive/MyDrive/newML/newMl/tuberculosis/1.2.392.200036.9116.2.5.1.16.1613468577.1283814922.468141_2/1.2.392.200036.9116.2.5.1.16.1613468577.1283814922.468141_2.csv']"
            ]
          },
          "metadata": {},
          "execution_count": 7
        }
      ]
    },
    {
      "cell_type": "code",
      "source": [
        "import pandas as pd"
      ],
      "metadata": {
        "id": "lpHJL_7HHwqX"
      },
      "execution_count": null,
      "outputs": []
    },
    {
      "cell_type": "code",
      "source": [
        "import numpy as np"
      ],
      "metadata": {
        "id": "LlAgn4d-LcTf"
      },
      "execution_count": null,
      "outputs": []
    },
    {
      "cell_type": "code",
      "source": [],
      "metadata": {
        "id": "FTsMdzvMMNHk"
      },
      "execution_count": null,
      "outputs": []
    },
    {
      "cell_type": "code",
      "source": [
        "from skimage.transform import resize"
      ],
      "metadata": {
        "id": "Upn1qFk7Xsot"
      },
      "execution_count": null,
      "outputs": []
    },
    {
      "cell_type": "code",
      "source": [
        "# функция дублирования одного слоя на 3\n",
        "def expand_greyscale_image_channels(grey_pil_image):\n",
        "    grey_image_arr = np.array(grey_pil_image)\n",
        "    grey_image_arr = np.expand_dims(grey_image_arr, -1)\n",
        "    grey_image_arr_3_channel = grey_image_arr.repeat(3, axis=-1)\n",
        "    return grey_image_arr_3_channel"
      ],
      "metadata": {
        "id": "PeSPc8IgXlsk"
      },
      "execution_count": null,
      "outputs": []
    },
    {
      "cell_type": "code",
      "source": [
        "foo = None"
      ],
      "metadata": {
        "id": "qvCYNfLA2snS"
      },
      "execution_count": null,
      "outputs": []
    },
    {
      "cell_type": "code",
      "source": [
        "\n",
        "def getImages(df):\n",
        "  images = []\n",
        "  dx = int(df[4][2]) - int(df[2][2]) + 1\n",
        "  dy = int(df[5][2]) - int(df[3][2]) + 1\n",
        "  normalaizedValue = df[0][1]\n",
        "  # print('normalaizedValue',normalaizedValue)\n",
        "  for index, row in df.iterrows():\n",
        "    if(index <= 2):\n",
        "      continue\n",
        "    arr = row.values.copy()\n",
        "    arr.resize(dx, dy)\n",
        "    for x in range(0, len(arr)):\n",
        "        for y in range(0, len(arr[0])):\n",
        "          # print(arr[x,y])\n",
        "          foo1 = float(arr[x,y]) / float(normalaizedValue.replace(\",\", \".\"))\n",
        "          # print('foo1',foo1)\n",
        "          arr[x,y] = foo1\n",
        "    imgT = arr.astype(np.int16)\n",
        "\n",
        "    imgR = resize(imgT, (64,64))\n",
        "    imgE = expand_greyscale_image_channels(imgR)\n",
        "    images.append(imgE)\n",
        "  return np.asarray(images)"
      ],
      "metadata": {
        "id": "toubs5zYJf1u"
      },
      "execution_count": null,
      "outputs": []
    },
    {
      "cell_type": "code",
      "source": [
        "print(foo)"
      ],
      "metadata": {
        "colab": {
          "base_uri": "https://localhost:8080/"
        },
        "id": "FtuY4QH12NFy",
        "outputId": "b0a41d31-962d-443c-c684-23ffc876dd36"
      },
      "execution_count": null,
      "outputs": [
        {
          "output_type": "stream",
          "name": "stdout",
          "text": [
            "None\n"
          ]
        }
      ]
    },
    {
      "cell_type": "code",
      "source": [
        "def getImg(paths):\n",
        "  images = []\n",
        "  for item in paths:\n",
        "    df = pd.read_csv(item,delimiter = \";\", header=None)\n",
        "    img = getImages(df)\n",
        "    images.append(img)\n",
        "\n",
        "  imageN = []\n",
        "  for img in images:\n",
        "    for it in img:\n",
        "      imageN.append(it)\n",
        "  return np.asarray(imageN)\n",
        "    #imgT = img.astype(np.int16)\n",
        "    #imgR = resize(imgT, (64,64))\n",
        "    #imgE = expand_greyscale_image_channels(imgR)"
      ],
      "metadata": {
        "id": "DNZCaQ4rJ8aq"
      },
      "execution_count": null,
      "outputs": []
    },
    {
      "cell_type": "code",
      "source": [
        "Pimages = getImg(arrPneum)\n",
        "Timages = getImg(arrTub)\n",
        "Cimages = getImg(arrCan)\n",
        "# arrPneum=addPath(arrPneumPath)\n",
        "# arrTub=addPath(arrTubPath)\n",
        "# arrCan=addPath(arrCanPath)"
      ],
      "metadata": {
        "colab": {
          "base_uri": "https://localhost:8080/"
        },
        "id": "E-A0_M8RQvCD",
        "outputId": "1d9a8a09-7835-4927-da33-a27faf6069d4"
      },
      "execution_count": null,
      "outputs": [
        {
          "output_type": "stream",
          "name": "stderr",
          "text": [
            "<ipython-input-41-bd51c969f73a>:4: DtypeWarning: Columns (0,1,2,3,4,5,6,7,8,9,10,11,12,13,14,15,16,17,18,19,20,21,22,23,24,25,26,27,28,29,30,31,32,33,34,35,36,37,38,39,40,41,42,43,44,45,46,47,48,49) have mixed types. Specify dtype option on import or set low_memory=False.\n",
            "  df = pd.read_csv(item,delimiter = \";\", header=None)\n"
          ]
        }
      ]
    },
    {
      "cell_type": "code",
      "source": [
        "print(Pimages.shape)\n",
        "print(Timages.shape)\n",
        "print(Cimages.shape)"
      ],
      "metadata": {
        "colab": {
          "base_uri": "https://localhost:8080/"
        },
        "id": "Keb8lE14Rs-x",
        "outputId": "423e5638-2739-4f61-a64d-3db0f30f5e5b"
      },
      "execution_count": null,
      "outputs": [
        {
          "output_type": "stream",
          "name": "stdout",
          "text": [
            "(569, 64, 64, 3)\n",
            "(520, 64, 64, 3)\n",
            "(641, 64, 64, 3)\n"
          ]
        }
      ]
    },
    {
      "cell_type": "code",
      "source": [
        "Xraw = []\n",
        "Yraw = []\n",
        "names = ['Pneumonia', 'Tuberculosis', 'Cancer']\n",
        "lists = [Pimages, Timages, Cimages]\n",
        "for i in range(0,3):\n",
        "  images = lists[i]\n",
        "  label = names[i]\n",
        "\n",
        "  for img in images:\n",
        "    Xraw.append(img)\n",
        "    Yraw.append(label)"
      ],
      "metadata": {
        "id": "3paIpVw8TOCo"
      },
      "execution_count": null,
      "outputs": []
    },
    {
      "cell_type": "code",
      "source": [
        "Xraw = np.asarray(Xraw)\n",
        "Yraw = np.asarray(Yraw)\n"
      ],
      "metadata": {
        "id": "belAswvjR-OO"
      },
      "execution_count": null,
      "outputs": []
    },
    {
      "cell_type": "code",
      "source": [
        "Xraw.shape"
      ],
      "metadata": {
        "colab": {
          "base_uri": "https://localhost:8080/"
        },
        "id": "nFYa9PFzVDLW",
        "outputId": "b4882119-be06-4b6e-ce5f-de711503a606"
      },
      "execution_count": null,
      "outputs": [
        {
          "output_type": "execute_result",
          "data": {
            "text/plain": [
              "(1730, 64, 64, 3)"
            ]
          },
          "metadata": {},
          "execution_count": 58
        }
      ]
    },
    {
      "cell_type": "code",
      "source": [
        "Yraw.shape"
      ],
      "metadata": {
        "colab": {
          "base_uri": "https://localhost:8080/"
        },
        "id": "JuCuObfoYxMQ",
        "outputId": "b5748574-4405-4dd7-abc6-56ab713d12af"
      },
      "execution_count": null,
      "outputs": [
        {
          "output_type": "execute_result",
          "data": {
            "text/plain": [
              "(1730,)"
            ]
          },
          "metadata": {},
          "execution_count": 59
        }
      ]
    },
    {
      "cell_type": "code",
      "source": [
        "Yraw"
      ],
      "metadata": {
        "colab": {
          "base_uri": "https://localhost:8080/"
        },
        "id": "D4u49S94VdA0",
        "outputId": "972a1883-2f8b-43c2-b636-5686bf9da44f"
      },
      "execution_count": null,
      "outputs": [
        {
          "output_type": "execute_result",
          "data": {
            "text/plain": [
              "array(['Pneumonia', 'Pneumonia', 'Pneumonia', ..., 'Cancer', 'Cancer',\n",
              "       'Cancer'], dtype='<U12')"
            ]
          },
          "metadata": {},
          "execution_count": 60
        }
      ]
    },
    {
      "cell_type": "code",
      "source": [
        "from sklearn.utils import shuffle\n",
        "Xz, yz = shuffle(Xraw, Yraw, random_state=0)"
      ],
      "metadata": {
        "id": "kiTlw2PsVlKz"
      },
      "execution_count": null,
      "outputs": []
    },
    {
      "cell_type": "code",
      "source": [
        "yz"
      ],
      "metadata": {
        "colab": {
          "base_uri": "https://localhost:8080/"
        },
        "id": "sPsHhA7qVzKE",
        "outputId": "dacad273-a002-4a1c-d015-907fcdd2e056"
      },
      "execution_count": null,
      "outputs": [
        {
          "output_type": "execute_result",
          "data": {
            "text/plain": [
              "array(['Cancer', 'Pneumonia', 'Tuberculosis', ..., 'Cancer', 'Pneumonia',\n",
              "       'Tuberculosis'], dtype='<U12')"
            ]
          },
          "metadata": {},
          "execution_count": 62
        }
      ]
    },
    {
      "cell_type": "code",
      "source": [
        "Xz.shape"
      ],
      "metadata": {
        "colab": {
          "base_uri": "https://localhost:8080/"
        },
        "id": "4Q2sfjqKQ7DJ",
        "outputId": "3c4d3a56-d278-49d4-cbf8-32b26599ecec"
      },
      "execution_count": null,
      "outputs": [
        {
          "output_type": "execute_result",
          "data": {
            "text/plain": [
              "(1730, 64, 64, 3)"
            ]
          },
          "metadata": {},
          "execution_count": 63
        }
      ]
    },
    {
      "cell_type": "code",
      "source": [
        "# импортируем необходимые библиотеки\n",
        "import cv2\n",
        "from PIL import Image\n",
        "from keras.models import Sequential\n",
        "from keras.layers import Dense\n",
        "# from scikeras.wrappers import KerasClassifier\n",
        "# from keras.utils import np_utils\n",
        "from sklearn.model_selection import cross_val_score\n",
        "from sklearn.model_selection import KFold\n",
        "from sklearn.preprocessing import LabelEncoder\n",
        "from sklearn.pipeline import Pipeline\n",
        "import numpy as np"
      ],
      "metadata": {
        "id": "tDDSruh1X00O"
      },
      "execution_count": null,
      "outputs": []
    },
    {
      "cell_type": "code",
      "execution_count": null,
      "metadata": {
        "colab": {
          "base_uri": "https://localhost:8080/",
          "height": 75
        },
        "id": "NvnzGGzqDN2_",
        "outputId": "fcc7534c-6f7a-447a-b27b-3b09fa3cdbe8"
      },
      "outputs": [
        {
          "output_type": "execute_result",
          "data": {
            "text/plain": [
              "LabelEncoder()"
            ],
            "text/html": [
              "<style>#sk-container-id-1 {color: black;background-color: white;}#sk-container-id-1 pre{padding: 0;}#sk-container-id-1 div.sk-toggleable {background-color: white;}#sk-container-id-1 label.sk-toggleable__label {cursor: pointer;display: block;width: 100%;margin-bottom: 0;padding: 0.3em;box-sizing: border-box;text-align: center;}#sk-container-id-1 label.sk-toggleable__label-arrow:before {content: \"▸\";float: left;margin-right: 0.25em;color: #696969;}#sk-container-id-1 label.sk-toggleable__label-arrow:hover:before {color: black;}#sk-container-id-1 div.sk-estimator:hover label.sk-toggleable__label-arrow:before {color: black;}#sk-container-id-1 div.sk-toggleable__content {max-height: 0;max-width: 0;overflow: hidden;text-align: left;background-color: #f0f8ff;}#sk-container-id-1 div.sk-toggleable__content pre {margin: 0.2em;color: black;border-radius: 0.25em;background-color: #f0f8ff;}#sk-container-id-1 input.sk-toggleable__control:checked~div.sk-toggleable__content {max-height: 200px;max-width: 100%;overflow: auto;}#sk-container-id-1 input.sk-toggleable__control:checked~label.sk-toggleable__label-arrow:before {content: \"▾\";}#sk-container-id-1 div.sk-estimator input.sk-toggleable__control:checked~label.sk-toggleable__label {background-color: #d4ebff;}#sk-container-id-1 div.sk-label input.sk-toggleable__control:checked~label.sk-toggleable__label {background-color: #d4ebff;}#sk-container-id-1 input.sk-hidden--visually {border: 0;clip: rect(1px 1px 1px 1px);clip: rect(1px, 1px, 1px, 1px);height: 1px;margin: -1px;overflow: hidden;padding: 0;position: absolute;width: 1px;}#sk-container-id-1 div.sk-estimator {font-family: monospace;background-color: #f0f8ff;border: 1px dotted black;border-radius: 0.25em;box-sizing: border-box;margin-bottom: 0.5em;}#sk-container-id-1 div.sk-estimator:hover {background-color: #d4ebff;}#sk-container-id-1 div.sk-parallel-item::after {content: \"\";width: 100%;border-bottom: 1px solid gray;flex-grow: 1;}#sk-container-id-1 div.sk-label:hover label.sk-toggleable__label {background-color: #d4ebff;}#sk-container-id-1 div.sk-serial::before {content: \"\";position: absolute;border-left: 1px solid gray;box-sizing: border-box;top: 0;bottom: 0;left: 50%;z-index: 0;}#sk-container-id-1 div.sk-serial {display: flex;flex-direction: column;align-items: center;background-color: white;padding-right: 0.2em;padding-left: 0.2em;position: relative;}#sk-container-id-1 div.sk-item {position: relative;z-index: 1;}#sk-container-id-1 div.sk-parallel {display: flex;align-items: stretch;justify-content: center;background-color: white;position: relative;}#sk-container-id-1 div.sk-item::before, #sk-container-id-1 div.sk-parallel-item::before {content: \"\";position: absolute;border-left: 1px solid gray;box-sizing: border-box;top: 0;bottom: 0;left: 50%;z-index: -1;}#sk-container-id-1 div.sk-parallel-item {display: flex;flex-direction: column;z-index: 1;position: relative;background-color: white;}#sk-container-id-1 div.sk-parallel-item:first-child::after {align-self: flex-end;width: 50%;}#sk-container-id-1 div.sk-parallel-item:last-child::after {align-self: flex-start;width: 50%;}#sk-container-id-1 div.sk-parallel-item:only-child::after {width: 0;}#sk-container-id-1 div.sk-dashed-wrapped {border: 1px dashed gray;margin: 0 0.4em 0.5em 0.4em;box-sizing: border-box;padding-bottom: 0.4em;background-color: white;}#sk-container-id-1 div.sk-label label {font-family: monospace;font-weight: bold;display: inline-block;line-height: 1.2em;}#sk-container-id-1 div.sk-label-container {text-align: center;}#sk-container-id-1 div.sk-container {/* jupyter's `normalize.less` sets `[hidden] { display: none; }` but bootstrap.min.css set `[hidden] { display: none !important; }` so we also need the `!important` here to be able to override the default hidden behavior on the sphinx rendered scikit-learn.org. See: https://github.com/scikit-learn/scikit-learn/issues/21755 */display: inline-block !important;position: relative;}#sk-container-id-1 div.sk-text-repr-fallback {display: none;}</style><div id=\"sk-container-id-1\" class=\"sk-top-container\"><div class=\"sk-text-repr-fallback\"><pre>LabelEncoder()</pre><b>In a Jupyter environment, please rerun this cell to show the HTML representation or trust the notebook. <br />On GitHub, the HTML representation is unable to render, please try loading this page with nbviewer.org.</b></div><div class=\"sk-container\" hidden><div class=\"sk-item\"><div class=\"sk-estimator sk-toggleable\"><input class=\"sk-toggleable__control sk-hidden--visually\" id=\"sk-estimator-id-1\" type=\"checkbox\" checked><label for=\"sk-estimator-id-1\" class=\"sk-toggleable__label sk-toggleable__label-arrow\">LabelEncoder</label><div class=\"sk-toggleable__content\"><pre>LabelEncoder()</pre></div></div></div></div></div>"
            ]
          },
          "metadata": {},
          "execution_count": 65
        }
      ],
      "source": [
        "encoder = LabelEncoder()\n",
        "encoder.fit(yz)\n"
      ]
    },
    {
      "cell_type": "code",
      "source": [
        "from keras.src.utils.np_utils import to_categorical\n"
      ],
      "metadata": {
        "id": "KZnU3_K6llva"
      },
      "execution_count": null,
      "outputs": []
    },
    {
      "cell_type": "code",
      "execution_count": null,
      "metadata": {
        "id": "9kFH5DTDDRUm"
      },
      "outputs": [],
      "source": [
        "# преобразуем стобец с болезнью в мультукласовый\n",
        "encoded_Yc = encoder.transform(yz)\n",
        "Yz = to_categorical(encoded_Yc)"
      ]
    },
    {
      "cell_type": "markdown",
      "source": [
        "**RESNET**"
      ],
      "metadata": {
        "id": "P4ss8-ykf-kW"
      }
    },
    {
      "cell_type": "code",
      "source": [
        "# импортируем все необходимые библиотеки\n",
        "import pandas as pd\n",
        "import numpy as np\n",
        "import matplotlib.pyplot as plt\n",
        "import os\n",
        "from urllib.request import urlopen,urlretrieve\n",
        "from PIL import Image\n",
        "from tqdm import tqdm_notebook\n",
        "%matplotlib inline\n",
        "from sklearn.utils import shuffle\n",
        "import cv2\n",
        "from keras.models import load_model\n",
        "from sklearn.datasets import load_files\n",
        "from glob import glob\n",
        "from keras import applications\n",
        "from keras.preprocessing.image import ImageDataGenerator\n",
        "from keras import optimizers\n",
        "from keras.models import Sequential,Model,load_model\n",
        "from keras.layers import Dense, Dropout, Flatten, Conv2D, MaxPool2D,GlobalAveragePooling2D\n",
        "from keras.callbacks import TensorBoard,ReduceLROnPlateau,ModelCheckpoint\n"
      ],
      "metadata": {
        "id": "aGJH6IIBf9Qb"
      },
      "execution_count": null,
      "outputs": []
    },
    {
      "cell_type": "code",
      "source": [
        "from tensorflow.keras.applications.resnet50 import ResNet50 # импортируем готовую модель ResNet50"
      ],
      "metadata": {
        "id": "YIYgab3NWQ_3"
      },
      "execution_count": null,
      "outputs": []
    },
    {
      "cell_type": "code",
      "source": [
        "img_height,img_width = 64,64 # размер одного изображения\n",
        "num_classes = 3 # количество классов\n",
        "#создаем модель исключаем первый уровень свертки  и с размером изображении 64 на 64\n",
        "base_model = ResNet50(weights= None, include_top=False, input_shape= (img_height,img_width,3))"
      ],
      "metadata": {
        "id": "2HPh3p7zgGQi"
      },
      "execution_count": null,
      "outputs": []
    },
    {
      "cell_type": "code",
      "source": [
        "# создаем полносвязанную сеть для классификатора\n",
        "x = base_model.output\n",
        "x = GlobalAveragePooling2D()(x)\n",
        "x = Dropout(0.7)(x)\n",
        "predictions = Dense(num_classes, activation= 'softmax')(x)\n",
        "model = Model(inputs = base_model.input, outputs = predictions)"
      ],
      "metadata": {
        "id": "VlsmdcZNgL-6"
      },
      "execution_count": null,
      "outputs": []
    },
    {
      "cell_type": "code",
      "source": [
        "from tensorflow.keras.optimizers import SGD, Adam\n",
        "#добавлеем оптимизаторы и функцию потерь\n",
        "adam = Adam(lr=0.0001)\n",
        "model.compile(optimizer= adam, loss='categorical_crossentropy', metrics=['accuracy'])"
      ],
      "metadata": {
        "colab": {
          "base_uri": "https://localhost:8080/"
        },
        "id": "nKbQC_FXgQqu",
        "outputId": "c1b9e0f6-d9b3-49cc-b664-c5988ee16002"
      },
      "execution_count": null,
      "outputs": [
        {
          "output_type": "stream",
          "name": "stderr",
          "text": [
            "WARNING:absl:`lr` is deprecated in Keras optimizer, please use `learning_rate` or use the legacy optimizer, e.g.,tf.keras.optimizers.legacy.Adam.\n"
          ]
        }
      ]
    },
    {
      "cell_type": "code",
      "source": [
        "#создаем конфигурацию хода обучения сети\n",
        "IMAGE_SIZE = [64, 64]\n",
        "BATCH_SIZE = 50\n",
        "EPOCHS = 60\n"
      ],
      "metadata": {
        "id": "7OuDxU7Lyu0K"
      },
      "execution_count": null,
      "outputs": []
    },
    {
      "cell_type": "code",
      "source": [
        "# 1730\n",
        "# 1 384\n",
        "# 277\n",
        "# 69"
      ],
      "metadata": {
        "id": "cF8uSDpvY2g_"
      },
      "execution_count": null,
      "outputs": []
    },
    {
      "cell_type": "code",
      "source": [
        "history = model.fit(Xz[0:1384], Yz[0:1384], batch_size=BATCH_SIZE,validation_data=(Xz[1384:1661], Yz[1384:1661]), epochs=EPOCHS)"
      ],
      "metadata": {
        "colab": {
          "base_uri": "https://localhost:8080/"
        },
        "id": "ZDeeFMZD6Nm2",
        "outputId": "b871ba49-489b-4abf-a428-d3fd863a32ad"
      },
      "execution_count": null,
      "outputs": [
        {
          "output_type": "stream",
          "name": "stdout",
          "text": [
            "Epoch 1/60\n",
            "28/28 [==============================] - 49s 250ms/step - loss: 1.8907 - accuracy: 0.4733 - val_loss: 1.3759 - val_accuracy: 0.3105\n",
            "Epoch 2/60\n",
            "28/28 [==============================] - 2s 71ms/step - loss: 0.8556 - accuracy: 0.7269 - val_loss: 1.3315 - val_accuracy: 0.3105\n",
            "Epoch 3/60\n",
            "28/28 [==============================] - 2s 70ms/step - loss: 0.4537 - accuracy: 0.8367 - val_loss: 2.2572 - val_accuracy: 0.3105\n",
            "Epoch 4/60\n",
            "28/28 [==============================] - 2s 72ms/step - loss: 0.3304 - accuracy: 0.9039 - val_loss: 3.0775 - val_accuracy: 0.3105\n",
            "Epoch 5/60\n",
            "28/28 [==============================] - 2s 71ms/step - loss: 0.3521 - accuracy: 0.9285 - val_loss: 3.5105 - val_accuracy: 0.3105\n",
            "Epoch 6/60\n",
            "28/28 [==============================] - 2s 73ms/step - loss: 0.2517 - accuracy: 0.9212 - val_loss: 3.7995 - val_accuracy: 0.3105\n",
            "Epoch 7/60\n",
            "28/28 [==============================] - 2s 75ms/step - loss: 0.1425 - accuracy: 0.9559 - val_loss: 3.3131 - val_accuracy: 0.3105\n",
            "Epoch 8/60\n",
            "28/28 [==============================] - 2s 74ms/step - loss: 0.1032 - accuracy: 0.9653 - val_loss: 4.6575 - val_accuracy: 0.3105\n",
            "Epoch 9/60\n",
            "28/28 [==============================] - 2s 72ms/step - loss: 0.1790 - accuracy: 0.9697 - val_loss: 4.3805 - val_accuracy: 0.3105\n",
            "Epoch 10/60\n",
            "28/28 [==============================] - 2s 71ms/step - loss: 0.6531 - accuracy: 0.8389 - val_loss: 5.0587 - val_accuracy: 0.3105\n",
            "Epoch 11/60\n",
            "28/28 [==============================] - 2s 71ms/step - loss: 0.2974 - accuracy: 0.9155 - val_loss: 4.0676 - val_accuracy: 0.3105\n",
            "Epoch 12/60\n",
            "28/28 [==============================] - 2s 71ms/step - loss: 0.3087 - accuracy: 0.9415 - val_loss: 2.4740 - val_accuracy: 0.3105\n",
            "Epoch 13/60\n",
            "28/28 [==============================] - 2s 73ms/step - loss: 0.1489 - accuracy: 0.9480 - val_loss: 5.0597 - val_accuracy: 0.3105\n",
            "Epoch 14/60\n",
            "28/28 [==============================] - 2s 77ms/step - loss: 0.4247 - accuracy: 0.9379 - val_loss: 2.2923 - val_accuracy: 0.3105\n",
            "Epoch 15/60\n",
            "28/28 [==============================] - 2s 77ms/step - loss: 0.1318 - accuracy: 0.9675 - val_loss: 2.9171 - val_accuracy: 0.3105\n",
            "Epoch 16/60\n",
            "28/28 [==============================] - 2s 71ms/step - loss: 0.0301 - accuracy: 0.9899 - val_loss: 5.2159 - val_accuracy: 0.3105\n",
            "Epoch 17/60\n",
            "28/28 [==============================] - 2s 73ms/step - loss: 0.0941 - accuracy: 0.9790 - val_loss: 1.6309 - val_accuracy: 0.3105\n",
            "Epoch 18/60\n",
            "28/28 [==============================] - 2s 72ms/step - loss: 1.1238 - accuracy: 0.7507 - val_loss: 14.0336 - val_accuracy: 0.3105\n",
            "Epoch 19/60\n",
            "28/28 [==============================] - 2s 73ms/step - loss: 1.3616 - accuracy: 0.7146 - val_loss: 12.3200 - val_accuracy: 0.3285\n",
            "Epoch 20/60\n",
            "28/28 [==============================] - 2s 77ms/step - loss: 0.4947 - accuracy: 0.8251 - val_loss: 1.5259 - val_accuracy: 0.3610\n",
            "Epoch 21/60\n",
            "28/28 [==============================] - 2s 78ms/step - loss: 0.6485 - accuracy: 0.8678 - val_loss: 1.7485 - val_accuracy: 0.2419\n",
            "Epoch 22/60\n",
            "28/28 [==============================] - 2s 74ms/step - loss: 0.3483 - accuracy: 0.8851 - val_loss: 2.1800 - val_accuracy: 0.3610\n",
            "Epoch 23/60\n",
            "28/28 [==============================] - 2s 72ms/step - loss: 0.1483 - accuracy: 0.9422 - val_loss: 1.9874 - val_accuracy: 0.3610\n",
            "Epoch 24/60\n",
            "28/28 [==============================] - 2s 71ms/step - loss: 0.1366 - accuracy: 0.9566 - val_loss: 2.3505 - val_accuracy: 0.3610\n",
            "Epoch 25/60\n",
            "28/28 [==============================] - 2s 72ms/step - loss: 0.0716 - accuracy: 0.9805 - val_loss: 1.5990 - val_accuracy: 0.3610\n",
            "Epoch 26/60\n",
            "28/28 [==============================] - 2s 74ms/step - loss: 0.0573 - accuracy: 0.9819 - val_loss: 1.4009 - val_accuracy: 0.3935\n",
            "Epoch 27/60\n",
            "28/28 [==============================] - 2s 79ms/step - loss: 0.0433 - accuracy: 0.9834 - val_loss: 1.3768 - val_accuracy: 0.4116\n",
            "Epoch 28/60\n",
            "28/28 [==============================] - 2s 75ms/step - loss: 0.0430 - accuracy: 0.9834 - val_loss: 1.7300 - val_accuracy: 0.3177\n",
            "Epoch 29/60\n",
            "28/28 [==============================] - 2s 74ms/step - loss: 0.0344 - accuracy: 0.9863 - val_loss: 2.6407 - val_accuracy: 0.3141\n",
            "Epoch 30/60\n",
            "28/28 [==============================] - 2s 72ms/step - loss: 0.0417 - accuracy: 0.9870 - val_loss: 1.7106 - val_accuracy: 0.3357\n",
            "Epoch 31/60\n",
            "28/28 [==============================] - 2s 74ms/step - loss: 0.0314 - accuracy: 0.9870 - val_loss: 2.8139 - val_accuracy: 0.3610\n",
            "Epoch 32/60\n",
            "28/28 [==============================] - 2s 75ms/step - loss: 0.0680 - accuracy: 0.9819 - val_loss: 1.4041 - val_accuracy: 0.3538\n",
            "Epoch 33/60\n",
            "28/28 [==============================] - 2s 77ms/step - loss: 0.0284 - accuracy: 0.9884 - val_loss: 2.9002 - val_accuracy: 0.3249\n",
            "Epoch 34/60\n",
            "28/28 [==============================] - 2s 79ms/step - loss: 0.0201 - accuracy: 0.9957 - val_loss: 1.8875 - val_accuracy: 0.3646\n",
            "Epoch 35/60\n",
            "28/28 [==============================] - 2s 73ms/step - loss: 0.0200 - accuracy: 0.9949 - val_loss: 2.9274 - val_accuracy: 0.3285\n",
            "Epoch 36/60\n",
            "28/28 [==============================] - 2s 74ms/step - loss: 0.0243 - accuracy: 0.9935 - val_loss: 3.5124 - val_accuracy: 0.3538\n",
            "Epoch 37/60\n",
            "28/28 [==============================] - 2s 73ms/step - loss: 0.0195 - accuracy: 0.9906 - val_loss: 2.9517 - val_accuracy: 0.4188\n",
            "Epoch 38/60\n",
            "28/28 [==============================] - 2s 73ms/step - loss: 0.0240 - accuracy: 0.9942 - val_loss: 2.8273 - val_accuracy: 0.4729\n",
            "Epoch 39/60\n",
            "28/28 [==============================] - 2s 77ms/step - loss: 0.0272 - accuracy: 0.9928 - val_loss: 3.7458 - val_accuracy: 0.4621\n",
            "Epoch 40/60\n",
            "28/28 [==============================] - 2s 79ms/step - loss: 0.0419 - accuracy: 0.9855 - val_loss: 4.0330 - val_accuracy: 0.4910\n",
            "Epoch 41/60\n",
            "28/28 [==============================] - 2s 75ms/step - loss: 0.0570 - accuracy: 0.9805 - val_loss: 2.0925 - val_accuracy: 0.5776\n",
            "Epoch 42/60\n",
            "28/28 [==============================] - 2s 74ms/step - loss: 0.0273 - accuracy: 0.9899 - val_loss: 3.0881 - val_accuracy: 0.5126\n",
            "Epoch 43/60\n",
            "28/28 [==============================] - 2s 76ms/step - loss: 0.0085 - accuracy: 0.9978 - val_loss: 0.6047 - val_accuracy: 0.8556\n",
            "Epoch 44/60\n",
            "28/28 [==============================] - 2s 73ms/step - loss: 0.0033 - accuracy: 0.9986 - val_loss: 0.4194 - val_accuracy: 0.9278\n",
            "Epoch 45/60\n",
            "28/28 [==============================] - 2s 75ms/step - loss: 0.0042 - accuracy: 0.9986 - val_loss: 0.4494 - val_accuracy: 0.9386\n",
            "Epoch 46/60\n",
            "28/28 [==============================] - 2s 80ms/step - loss: 0.0032 - accuracy: 0.9986 - val_loss: 0.3475 - val_accuracy: 0.9386\n",
            "Epoch 47/60\n",
            "28/28 [==============================] - 2s 78ms/step - loss: 0.0056 - accuracy: 0.9971 - val_loss: 0.3425 - val_accuracy: 0.9386\n",
            "Epoch 48/60\n",
            "28/28 [==============================] - 2s 74ms/step - loss: 0.0141 - accuracy: 0.9971 - val_loss: 0.4325 - val_accuracy: 0.9206\n",
            "Epoch 49/60\n",
            "28/28 [==============================] - 2s 75ms/step - loss: 0.0096 - accuracy: 0.9971 - val_loss: 0.2009 - val_accuracy: 0.9531\n",
            "Epoch 50/60\n",
            "28/28 [==============================] - 2s 73ms/step - loss: 0.0049 - accuracy: 0.9986 - val_loss: 0.2785 - val_accuracy: 0.9458\n",
            "Epoch 51/60\n",
            "28/28 [==============================] - 2s 74ms/step - loss: 7.7674e-04 - accuracy: 1.0000 - val_loss: 0.2784 - val_accuracy: 0.9495\n",
            "Epoch 52/60\n",
            "28/28 [==============================] - 2s 77ms/step - loss: 5.1229e-04 - accuracy: 1.0000 - val_loss: 0.2695 - val_accuracy: 0.9495\n",
            "Epoch 53/60\n",
            "28/28 [==============================] - 2s 79ms/step - loss: 2.5488e-04 - accuracy: 1.0000 - val_loss: 0.2629 - val_accuracy: 0.9495\n",
            "Epoch 54/60\n",
            "28/28 [==============================] - 2s 75ms/step - loss: 2.1996e-04 - accuracy: 1.0000 - val_loss: 0.2649 - val_accuracy: 0.9495\n",
            "Epoch 55/60\n",
            "28/28 [==============================] - 2s 75ms/step - loss: 6.7726e-04 - accuracy: 1.0000 - val_loss: 0.2486 - val_accuracy: 0.9531\n",
            "Epoch 56/60\n",
            "28/28 [==============================] - 2s 73ms/step - loss: 3.7709e-04 - accuracy: 1.0000 - val_loss: 0.2428 - val_accuracy: 0.9531\n",
            "Epoch 57/60\n",
            "28/28 [==============================] - 2s 73ms/step - loss: 1.2880e-04 - accuracy: 1.0000 - val_loss: 0.2793 - val_accuracy: 0.9495\n",
            "Epoch 58/60\n",
            "28/28 [==============================] - 2s 76ms/step - loss: 4.8725e-04 - accuracy: 1.0000 - val_loss: 0.2807 - val_accuracy: 0.9531\n",
            "Epoch 59/60\n",
            "28/28 [==============================] - 2s 80ms/step - loss: 0.0014 - accuracy: 0.9993 - val_loss: 0.3359 - val_accuracy: 0.9567\n",
            "Epoch 60/60\n",
            "28/28 [==============================] - 2s 75ms/step - loss: 0.0365 - accuracy: 0.9928 - val_loss: 0.6416 - val_accuracy: 0.9025\n"
          ]
        }
      ]
    },
    {
      "cell_type": "code",
      "source": [
        "#выводим график хода обучения\n",
        "import matplotlib.pyplot as plt\n",
        "history_dict = history.history\n",
        "acc_values = history_dict['accuracy']\n",
        "val_acc_values = history_dict['val_accuracy']\n",
        "epochs = range(1, len(acc_values) + 1)\n",
        "plt.plot(epochs, acc_values, 'r', label='Training acc')\n",
        "plt.plot(epochs, val_acc_values, 'b', label='Validation acc')\n",
        "plt.xlabel('Epochs')\n",
        "plt.ylabel('Accuracy')\n",
        "plt.legend()\n",
        "plt.show()"
      ],
      "metadata": {
        "colab": {
          "base_uri": "https://localhost:8080/",
          "height": 449
        },
        "id": "X4dnMe-r65XC",
        "outputId": "69d04576-be7d-43ba-81b4-e218cde71819"
      },
      "execution_count": null,
      "outputs": [
        {
          "output_type": "display_data",
          "data": {
            "text/plain": [
              "<Figure size 640x480 with 1 Axes>"
            ],
            "image/png": "[encoded data removed]"
          },
          "metadata": {}
        }
      ]
    },
    {
      "cell_type": "code",
      "source": [
        "# вычисляем f1 метрику для тестовой выборки\n",
        "from sklearn.metrics import f1_score\n",
        "pred = model.predict(Xz[1661:1730])\n",
        "trues = Yz[1661:1730]\n",
        "f1_score(np.argmax(trues, axis=1), np.argmax(pred, axis=1), average=None)"
      ],
      "metadata": {
        "colab": {
          "base_uri": "https://localhost:8080/"
        },
        "id": "rZbGGmBb6-1M",
        "outputId": "c2addf7e-af66-4a1a-b1a4-1d049f8940b0"
      },
      "execution_count": null,
      "outputs": [
        {
          "output_type": "stream",
          "name": "stdout",
          "text": [
            "3/3 [==============================] - 3s 391ms/step\n"
          ]
        },
        {
          "output_type": "execute_result",
          "data": {
            "text/plain": [
              "array([0.89361702, 0.82608696, 0.84444444])"
            ]
          },
          "metadata": {},
          "execution_count": 76
        }
      ]
    },
    {
      "cell_type": "code",
      "source": [
        "from sklearn.metrics import accuracy_score\n",
        "pred = model.predict(Xz[1661:1730])\n",
        "trues = Yz[1661:1730]\n",
        "accuracy_score(np.argmax(trues, axis=1), np.argmax(pred, axis=1))"
      ],
      "metadata": {
        "colab": {
          "base_uri": "https://localhost:8080/"
        },
        "id": "MzC9BpA06_o_",
        "outputId": "ed32dc61-1f63-43be-9428-a87f0acdc430"
      },
      "execution_count": null,
      "outputs": [
        {
          "output_type": "stream",
          "name": "stdout",
          "text": [
            "3/3 [==============================] - 0s 29ms/step\n"
          ]
        },
        {
          "output_type": "execute_result",
          "data": {
            "text/plain": [
              "0.855072463768116"
            ]
          },
          "metadata": {},
          "execution_count": 78
        }
      ]
    },
    {
      "cell_type": "code",
      "source": [
        "# обучаем модель\n",
        "history = model.fit(Xz[0:1384], Yz[0:1384], batch_size=BATCH_SIZE,validation_data=(Xz[1384:1661], Yz[1384:1661]), epochs=EPOCHS)\n"
      ],
      "metadata": {
        "colab": {
          "base_uri": "https://localhost:8080/"
        },
        "id": "0xhfqB3OgWaJ",
        "outputId": "a89a4a40-860f-4ee7-b4dc-3610be582f1f"
      },
      "execution_count": null,
      "outputs": [
        {
          "output_type": "stream",
          "name": "stdout",
          "text": [
            "Epoch 1/60\n",
            "28/28 [==============================] - 4s 157ms/step - loss: 1.3722 - accuracy: 0.7052 - val_loss: 31.1553 - val_accuracy: 0.2852\n",
            "Epoch 2/60\n",
            "28/28 [==============================] - 3s 88ms/step - loss: 2.1681 - accuracy: 0.5188 - val_loss: 1547.5474 - val_accuracy: 0.3285\n",
            "Epoch 3/60\n",
            "28/28 [==============================] - 2s 79ms/step - loss: 1.2184 - accuracy: 0.5997 - val_loss: 919.0464 - val_accuracy: 0.3610\n",
            "Epoch 4/60\n",
            "28/28 [==============================] - 2s 78ms/step - loss: 1.1627 - accuracy: 0.6322 - val_loss: 14.3115 - val_accuracy: 0.2238\n",
            "Epoch 5/60\n",
            "28/28 [==============================] - 2s 79ms/step - loss: 0.8946 - accuracy: 0.6532 - val_loss: 163.2319 - val_accuracy: 0.3899\n",
            "Epoch 6/60\n",
            "28/28 [==============================] - 2s 82ms/step - loss: 0.8241 - accuracy: 0.6618 - val_loss: 440.5555 - val_accuracy: 0.3610\n",
            "Epoch 7/60\n",
            "28/28 [==============================] - 2s 86ms/step - loss: 0.7486 - accuracy: 0.6944 - val_loss: 3.0375 - val_accuracy: 0.3755\n",
            "Epoch 8/60\n",
            "28/28 [==============================] - 2s 81ms/step - loss: 1.1775 - accuracy: 0.6618 - val_loss: 34.3098 - val_accuracy: 0.3755\n",
            "Epoch 9/60\n",
            "28/28 [==============================] - 2s 79ms/step - loss: 1.2757 - accuracy: 0.6004 - val_loss: 758.2915 - val_accuracy: 0.3610\n",
            "Epoch 10/60\n",
            "28/28 [==============================] - 2s 80ms/step - loss: 0.8767 - accuracy: 0.6575 - val_loss: 133.3670 - val_accuracy: 0.4838\n",
            "Epoch 11/60\n",
            "28/28 [==============================] - 2s 79ms/step - loss: 0.9126 - accuracy: 0.6286 - val_loss: 2.1042 - val_accuracy: 0.5523\n",
            "Epoch 12/60\n",
            "28/28 [==============================] - 2s 81ms/step - loss: 0.8436 - accuracy: 0.7146 - val_loss: 8.7874 - val_accuracy: 0.5199\n",
            "Epoch 13/60\n",
            "28/28 [==============================] - 2s 85ms/step - loss: 0.5906 - accuracy: 0.7724 - val_loss: 8.7431 - val_accuracy: 0.5884\n",
            "Epoch 14/60\n",
            "28/28 [==============================] - 2s 78ms/step - loss: 0.5515 - accuracy: 0.7883 - val_loss: 4.0761 - val_accuracy: 0.6137\n",
            "Epoch 15/60\n",
            "28/28 [==============================] - 2s 78ms/step - loss: 0.4952 - accuracy: 0.7955 - val_loss: 0.7659 - val_accuracy: 0.7004\n",
            "Epoch 16/60\n",
            "28/28 [==============================] - 2s 79ms/step - loss: 0.4449 - accuracy: 0.8324 - val_loss: 0.7350 - val_accuracy: 0.7040\n",
            "Epoch 17/60\n",
            "28/28 [==============================] - 2s 79ms/step - loss: 0.3467 - accuracy: 0.8584 - val_loss: 0.5981 - val_accuracy: 0.7726\n",
            "Epoch 18/60\n",
            "28/28 [==============================] - 2s 81ms/step - loss: 0.2997 - accuracy: 0.8815 - val_loss: 0.6414 - val_accuracy: 0.7545\n",
            "Epoch 19/60\n",
            "28/28 [==============================] - 2s 84ms/step - loss: 0.2512 - accuracy: 0.9068 - val_loss: 0.4525 - val_accuracy: 0.8159\n",
            "Epoch 20/60\n",
            "28/28 [==============================] - 2s 79ms/step - loss: 0.2320 - accuracy: 0.9140 - val_loss: 0.4052 - val_accuracy: 0.8520\n",
            "Epoch 21/60\n",
            "28/28 [==============================] - 2s 78ms/step - loss: 0.2032 - accuracy: 0.9241 - val_loss: 0.4162 - val_accuracy: 0.8484\n",
            "Epoch 22/60\n",
            "28/28 [==============================] - 2s 78ms/step - loss: 0.2495 - accuracy: 0.9068 - val_loss: 0.6047 - val_accuracy: 0.8014\n",
            "Epoch 23/60\n",
            "28/28 [==============================] - 2s 77ms/step - loss: 0.3037 - accuracy: 0.9104 - val_loss: 0.4785 - val_accuracy: 0.8339\n",
            "Epoch 24/60\n",
            "28/28 [==============================] - 2s 80ms/step - loss: 0.2043 - accuracy: 0.9270 - val_loss: 0.3558 - val_accuracy: 0.8917\n",
            "Epoch 25/60\n",
            "28/28 [==============================] - 2s 84ms/step - loss: 0.1381 - accuracy: 0.9530 - val_loss: 0.3182 - val_accuracy: 0.8845\n",
            "Epoch 26/60\n",
            "28/28 [==============================] - 2s 78ms/step - loss: 0.1858 - accuracy: 0.9588 - val_loss: 0.3527 - val_accuracy: 0.8881\n",
            "Epoch 27/60\n",
            "28/28 [==============================] - 2s 78ms/step - loss: 0.1270 - accuracy: 0.9603 - val_loss: 0.2548 - val_accuracy: 0.9134\n",
            "Epoch 28/60\n",
            "28/28 [==============================] - 2s 76ms/step - loss: 0.8862 - accuracy: 0.8389 - val_loss: 2.9105 - val_accuracy: 0.3646\n",
            "Epoch 29/60\n",
            "28/28 [==============================] - 2s 76ms/step - loss: 1.3318 - accuracy: 0.7016 - val_loss: 1.6863 - val_accuracy: 0.4440\n",
            "Epoch 30/60\n",
            "28/28 [==============================] - 2s 79ms/step - loss: 1.1747 - accuracy: 0.7457 - val_loss: 1.7977 - val_accuracy: 0.4513\n",
            "Epoch 31/60\n",
            "28/28 [==============================] - 2s 83ms/step - loss: 1.0117 - accuracy: 0.6770 - val_loss: 1.4061 - val_accuracy: 0.5018\n",
            "Epoch 32/60\n",
            "28/28 [==============================] - 2s 80ms/step - loss: 1.6319 - accuracy: 0.7110 - val_loss: 2.6231 - val_accuracy: 0.4404\n",
            "Epoch 33/60\n",
            "28/28 [==============================] - 2s 78ms/step - loss: 1.0035 - accuracy: 0.7507 - val_loss: 33.4082 - val_accuracy: 0.5668\n",
            "Epoch 34/60\n",
            "28/28 [==============================] - 2s 76ms/step - loss: 0.5499 - accuracy: 0.8201 - val_loss: 23.4050 - val_accuracy: 0.6823\n",
            "Epoch 35/60\n",
            "28/28 [==============================] - 2s 78ms/step - loss: 0.4491 - accuracy: 0.8548 - val_loss: 14.3439 - val_accuracy: 0.7220\n",
            "Epoch 36/60\n",
            "28/28 [==============================] - 2s 77ms/step - loss: 0.3410 - accuracy: 0.8786 - val_loss: 0.9231 - val_accuracy: 0.7834\n",
            "Epoch 37/60\n",
            "28/28 [==============================] - 2s 82ms/step - loss: 0.2875 - accuracy: 0.8916 - val_loss: 1.1026 - val_accuracy: 0.7870\n",
            "Epoch 38/60\n",
            "28/28 [==============================] - 2s 83ms/step - loss: 0.2424 - accuracy: 0.9075 - val_loss: 0.5778 - val_accuracy: 0.8051\n",
            "Epoch 39/60\n",
            "28/28 [==============================] - 2s 78ms/step - loss: 0.3163 - accuracy: 0.9147 - val_loss: 9.5418 - val_accuracy: 0.7726\n",
            "Epoch 40/60\n",
            "28/28 [==============================] - 2s 77ms/step - loss: 0.2818 - accuracy: 0.8952 - val_loss: 3.0919 - val_accuracy: 0.8231\n",
            "Epoch 41/60\n",
            "28/28 [==============================] - 2s 78ms/step - loss: 0.2399 - accuracy: 0.9335 - val_loss: 0.4342 - val_accuracy: 0.8556\n",
            "Epoch 42/60\n",
            "28/28 [==============================] - 2s 79ms/step - loss: 0.2711 - accuracy: 0.9140 - val_loss: 1.5061 - val_accuracy: 0.5884\n",
            "Epoch 43/60\n",
            "28/28 [==============================] - 2s 81ms/step - loss: 0.2947 - accuracy: 0.8938 - val_loss: 0.6861 - val_accuracy: 0.7509\n",
            "Epoch 44/60\n",
            "28/28 [==============================] - 2s 84ms/step - loss: 0.1644 - accuracy: 0.9509 - val_loss: 0.4130 - val_accuracy: 0.8556\n",
            "Epoch 45/60\n",
            "28/28 [==============================] - 2s 77ms/step - loss: 0.1722 - accuracy: 0.9364 - val_loss: 124.6920 - val_accuracy: 0.4224\n",
            "Epoch 46/60\n",
            "28/28 [==============================] - 2s 77ms/step - loss: 0.6286 - accuracy: 0.7666 - val_loss: 82.1774 - val_accuracy: 0.4729\n",
            "Epoch 47/60\n",
            "28/28 [==============================] - 2s 77ms/step - loss: 0.4409 - accuracy: 0.8555 - val_loss: 37.1075 - val_accuracy: 0.6606\n",
            "Epoch 48/60\n",
            "28/28 [==============================] - 2s 78ms/step - loss: 0.2557 - accuracy: 0.9003 - val_loss: 11.2505 - val_accuracy: 0.7509\n",
            "Epoch 49/60\n",
            "28/28 [==============================] - 2s 80ms/step - loss: 0.1749 - accuracy: 0.9364 - val_loss: 1.1324 - val_accuracy: 0.8556\n",
            "Epoch 50/60\n",
            "28/28 [==============================] - 2s 85ms/step - loss: 0.1637 - accuracy: 0.9595 - val_loss: 0.4080 - val_accuracy: 0.8664\n",
            "Epoch 51/60\n",
            "28/28 [==============================] - 2s 80ms/step - loss: 0.1271 - accuracy: 0.9494 - val_loss: 0.2958 - val_accuracy: 0.8809\n",
            "Epoch 52/60\n",
            "28/28 [==============================] - 2s 77ms/step - loss: 0.1077 - accuracy: 0.9588 - val_loss: 0.3176 - val_accuracy: 0.8809\n",
            "Epoch 53/60\n",
            "28/28 [==============================] - 2s 77ms/step - loss: 0.0879 - accuracy: 0.9675 - val_loss: 0.2782 - val_accuracy: 0.9097\n",
            "Epoch 54/60\n",
            "28/28 [==============================] - 2s 78ms/step - loss: 0.0555 - accuracy: 0.9812 - val_loss: 0.2964 - val_accuracy: 0.9170\n",
            "Epoch 55/60\n",
            "28/28 [==============================] - 2s 80ms/step - loss: 0.0540 - accuracy: 0.9819 - val_loss: 0.3385 - val_accuracy: 0.8881\n",
            "Epoch 56/60\n",
            "28/28 [==============================] - 2s 84ms/step - loss: 0.0584 - accuracy: 0.9819 - val_loss: 0.2823 - val_accuracy: 0.9242\n",
            "Epoch 57/60\n",
            "28/28 [==============================] - 2s 81ms/step - loss: 0.0472 - accuracy: 0.9834 - val_loss: 0.2947 - val_accuracy: 0.9170\n",
            "Epoch 58/60\n",
            "28/28 [==============================] - 2s 79ms/step - loss: 0.0310 - accuracy: 0.9877 - val_loss: 0.2660 - val_accuracy: 0.9242\n",
            "Epoch 59/60\n",
            "28/28 [==============================] - 2s 79ms/step - loss: 0.0388 - accuracy: 0.9848 - val_loss: 0.3526 - val_accuracy: 0.9206\n",
            "Epoch 60/60\n",
            "28/28 [==============================] - 2s 77ms/step - loss: 0.0630 - accuracy: 0.9790 - val_loss: 0.2990 - val_accuracy: 0.9097\n"
          ]
        }
      ]
    },
    {
      "cell_type": "code",
      "source": [
        "#выводим график хода обучения\n",
        "import matplotlib.pyplot as plt\n",
        "history_dict = history.history\n",
        "acc_values = history_dict['accuracy']\n",
        "val_acc_values = history_dict['val_accuracy']\n",
        "epochs = range(1, len(acc_values) + 1)\n",
        "plt.plot(epochs, acc_values, 'r', label='Training acc')\n",
        "plt.plot(epochs, val_acc_values, 'b', label='Validation acc')\n",
        "plt.xlabel('Epochs')\n",
        "plt.ylabel('Accuracy')\n",
        "plt.legend()\n",
        "plt.show()"
      ],
      "metadata": {
        "colab": {
          "base_uri": "https://localhost:8080/",
          "height": 449
        },
        "id": "c7K0vNYagj3i",
        "outputId": "fe46719f-3deb-466c-cda1-b84c15469049"
      },
      "execution_count": null,
      "outputs": [
        {
          "output_type": "display_data",
          "data": {
            "text/plain": [
              "<Figure size 640x480 with 1 Axes>"
            ],
            "image/png": "[encoded data removed]"
          },
          "metadata": {}
        }
      ]
    },
    {
      "cell_type": "code",
      "source": [
        "# вычисляем f1 метрику для тестовой выборки\n",
        "from sklearn.metrics import f1_score\n",
        "pred = model.predict(Xz[1661:1730])\n",
        "trues = Yz[1661:1730]\n",
        "f1_score(np.argmax(trues, axis=1), np.argmax(pred, axis=1), average=None)"
      ],
      "metadata": {
        "colab": {
          "base_uri": "https://localhost:8080/"
        },
        "id": "OkBEosg2gpnt",
        "outputId": "7f1631c5-ef70-472f-9feb-2df78568dbd1"
      },
      "execution_count": null,
      "outputs": [
        {
          "output_type": "stream",
          "name": "stdout",
          "text": [
            "3/3 [==============================] - 4s 322ms/step\n"
          ]
        },
        {
          "output_type": "execute_result",
          "data": {
            "text/plain": [
              "array([0.93617021, 0.93333333, 0.91304348])"
            ]
          },
          "metadata": {},
          "execution_count": 39
        }
      ]
    },
    {
      "cell_type": "markdown",
      "source": [
        "**VGG16**"
      ],
      "metadata": {
        "id": "1du7W3lyf4e6"
      }
    },
    {
      "cell_type": "code",
      "execution_count": null,
      "metadata": {
        "id": "K54o_ZnRDn4c"
      },
      "outputs": [],
      "source": [
        "# Конфигурируем процесс обучения нейросети\n",
        "IMAGE_SIZE = [64, 64]\n",
        "BATCH_SIZE = 50\n",
        "EPOCHS = 100"
      ]
    },
    {
      "cell_type": "code",
      "execution_count": null,
      "metadata": {
        "id": "V2mGGiDID5g3",
        "colab": {
          "base_uri": "https://localhost:8080/"
        },
        "outputId": "2ec502d0-820a-48e7-ea04-711e2b463f55"
      },
      "outputs": [
        {
          "output_type": "stream",
          "name": "stdout",
          "text": [
            "Downloading data from https://storage.googleapis.com/tensorflow/keras-applications/vgg16/vgg16_weights_tf_dim_ordering_tf_kernels_notop.h5\n",
            "58889256/58889256 [==============================] - 4s 0us/step\n"
          ]
        }
      ],
      "source": [
        "# импортируем все необходимые библиотеки\n",
        "from keras.layers import Input, Lambda, Dense, Flatten\n",
        "from keras.models import Model\n",
        "from keras.applications.vgg16 import VGG16 # импортируем VGG16\n",
        "from keras.applications.vgg16 import preprocess_input\n",
        "from keras.preprocessing import image\n",
        "from keras.preprocessing.image import ImageDataGenerator\n",
        "from keras.models import Sequential\n",
        "import numpy as np\n",
        "from keras.preprocessing.image import ImageDataGenerator\n",
        "num_classes = 3 # количество классов\n",
        "vgg = VGG16(input_shape = IMAGE_SIZE + [3], weights = 'imagenet', include_top = False)  # input_shape = (64,64,3) as required by VGG\n",
        "\n",
        "\n",
        "# создаем полносвязанную сеть для классификатора\n",
        "x = Flatten()(vgg.output)\n",
        "x = Dense(num_classes, activation = 'softmax')(x)\n",
        "model = Model(inputs = vgg.input, outputs = x)\n",
        "#добавлеем оптимизаторыы и функцию потерь\n",
        "model.compile(loss='categorical_crossentropy', optimizer='adam', metrics=['accuracy'])"
      ]
    },
    {
      "cell_type": "code",
      "execution_count": null,
      "metadata": {
        "colab": {
          "base_uri": "https://localhost:8080/"
        },
        "id": "UtEZkJamUu6-",
        "outputId": "efe743fd-e86f-4ebf-ce46-06f0c273db7a"
      },
      "outputs": [
        {
          "output_type": "stream",
          "name": "stdout",
          "text": [
            "Epoch 1/100\n",
            "28/28 [==============================] - 15s 243ms/step - loss: 1.2136 - accuracy: 0.3360 - val_loss: 1.1039 - val_accuracy: 0.3105\n",
            "Epoch 2/100\n",
            "28/28 [==============================] - 2s 71ms/step - loss: 1.1835 - accuracy: 0.3353 - val_loss: 1.1060 - val_accuracy: 0.3285\n",
            "Epoch 3/100\n",
            "28/28 [==============================] - 2s 71ms/step - loss: 1.1047 - accuracy: 0.3620 - val_loss: 1.0981 - val_accuracy: 0.3285\n",
            "Epoch 4/100\n",
            "28/28 [==============================] - 2s 72ms/step - loss: 1.0977 - accuracy: 0.3577 - val_loss: 1.0997 - val_accuracy: 0.3610\n",
            "Epoch 5/100\n",
            "28/28 [==============================] - 2s 71ms/step - loss: 1.0973 - accuracy: 0.3750 - val_loss: 1.1000 - val_accuracy: 0.3610\n",
            "Epoch 6/100\n",
            "28/28 [==============================] - 2s 75ms/step - loss: 1.0963 - accuracy: 0.3714 - val_loss: 1.1040 - val_accuracy: 0.3610\n",
            "Epoch 7/100\n",
            "28/28 [==============================] - 2s 82ms/step - loss: 1.0995 - accuracy: 0.3562 - val_loss: 1.1106 - val_accuracy: 0.3610\n",
            "Epoch 8/100\n",
            "28/28 [==============================] - 2s 85ms/step - loss: 1.0974 - accuracy: 0.3649 - val_loss: 1.0988 - val_accuracy: 0.3610\n",
            "Epoch 9/100\n",
            "28/28 [==============================] - 2s 82ms/step - loss: 1.0990 - accuracy: 0.3642 - val_loss: 1.1201 - val_accuracy: 0.3610\n",
            "Epoch 10/100\n",
            "28/28 [==============================] - 2s 80ms/step - loss: 1.1052 - accuracy: 0.3432 - val_loss: 1.0980 - val_accuracy: 0.3610\n",
            "Epoch 11/100\n",
            "28/28 [==============================] - 2s 78ms/step - loss: 1.1020 - accuracy: 0.3360 - val_loss: 1.1012 - val_accuracy: 0.3610\n",
            "Epoch 12/100\n",
            "28/28 [==============================] - 2s 75ms/step - loss: 1.0993 - accuracy: 0.3605 - val_loss: 1.0978 - val_accuracy: 0.3285\n",
            "Epoch 13/100\n",
            "28/28 [==============================] - 2s 76ms/step - loss: 1.1001 - accuracy: 0.3613 - val_loss: 1.1002 - val_accuracy: 0.3610\n",
            "Epoch 14/100\n",
            "28/28 [==============================] - 2s 75ms/step - loss: 1.0994 - accuracy: 0.3671 - val_loss: 1.1013 - val_accuracy: 0.3105\n",
            "Epoch 15/100\n",
            "28/28 [==============================] - 2s 73ms/step - loss: 1.0978 - accuracy: 0.3569 - val_loss: 1.0967 - val_accuracy: 0.3610\n",
            "Epoch 16/100\n",
            "28/28 [==============================] - 2s 73ms/step - loss: 1.0968 - accuracy: 0.3699 - val_loss: 1.0976 - val_accuracy: 0.3610\n",
            "Epoch 17/100\n",
            "28/28 [==============================] - 2s 73ms/step - loss: 1.0977 - accuracy: 0.3338 - val_loss: 1.0979 - val_accuracy: 0.3610\n",
            "Epoch 18/100\n",
            "28/28 [==============================] - 2s 71ms/step - loss: 1.0972 - accuracy: 0.3750 - val_loss: 1.0971 - val_accuracy: 0.3610\n",
            "Epoch 19/100\n",
            "28/28 [==============================] - 2s 73ms/step - loss: 1.0957 - accuracy: 0.3620 - val_loss: 1.1018 - val_accuracy: 0.3610\n",
            "Epoch 20/100\n",
            "28/28 [==============================] - 2s 75ms/step - loss: 1.0966 - accuracy: 0.3663 - val_loss: 1.0974 - val_accuracy: 0.3610\n",
            "Epoch 21/100\n",
            "28/28 [==============================] - 2s 73ms/step - loss: 1.0958 - accuracy: 0.3750 - val_loss: 1.0980 - val_accuracy: 0.3285\n",
            "Epoch 22/100\n",
            "28/28 [==============================] - 2s 75ms/step - loss: 1.0958 - accuracy: 0.3627 - val_loss: 1.0976 - val_accuracy: 0.3610\n",
            "Epoch 23/100\n",
            "28/28 [==============================] - 2s 71ms/step - loss: 1.0975 - accuracy: 0.3678 - val_loss: 1.1026 - val_accuracy: 0.3610\n",
            "Epoch 24/100\n",
            "28/28 [==============================] - 2s 71ms/step - loss: 1.0988 - accuracy: 0.3750 - val_loss: 1.0983 - val_accuracy: 0.3610\n",
            "Epoch 25/100\n",
            "28/28 [==============================] - 2s 73ms/step - loss: 1.0971 - accuracy: 0.3750 - val_loss: 1.0975 - val_accuracy: 0.3610\n",
            "Epoch 26/100\n",
            "28/28 [==============================] - 2s 75ms/step - loss: 1.0965 - accuracy: 0.3750 - val_loss: 1.0993 - val_accuracy: 0.3610\n",
            "Epoch 27/100\n",
            "28/28 [==============================] - 2s 72ms/step - loss: 1.0962 - accuracy: 0.3750 - val_loss: 1.1012 - val_accuracy: 0.3610\n",
            "Epoch 28/100\n",
            "28/28 [==============================] - 2s 71ms/step - loss: 1.0965 - accuracy: 0.3685 - val_loss: 1.0995 - val_accuracy: 0.3285\n",
            "Epoch 29/100\n",
            "28/28 [==============================] - 2s 72ms/step - loss: 1.0981 - accuracy: 0.3627 - val_loss: 1.0978 - val_accuracy: 0.3610\n",
            "Epoch 30/100\n",
            "28/28 [==============================] - 2s 72ms/step - loss: 1.0947 - accuracy: 0.3750 - val_loss: 1.0978 - val_accuracy: 0.3610\n",
            "Epoch 31/100\n",
            "28/28 [==============================] - 2s 72ms/step - loss: 1.0952 - accuracy: 0.3750 - val_loss: 1.0971 - val_accuracy: 0.3610\n",
            "Epoch 32/100\n",
            "28/28 [==============================] - 2s 74ms/step - loss: 1.0970 - accuracy: 0.3497 - val_loss: 1.1039 - val_accuracy: 0.3610\n",
            "Epoch 33/100\n",
            "28/28 [==============================] - 2s 73ms/step - loss: 1.1020 - accuracy: 0.3627 - val_loss: 1.0969 - val_accuracy: 0.3610\n",
            "Epoch 34/100\n",
            "28/28 [==============================] - 2s 72ms/step - loss: 1.0970 - accuracy: 0.3750 - val_loss: 1.0975 - val_accuracy: 0.3610\n",
            "Epoch 35/100\n",
            "28/28 [==============================] - 2s 72ms/step - loss: 1.0974 - accuracy: 0.3750 - val_loss: 1.0976 - val_accuracy: 0.3285\n",
            "Epoch 36/100\n",
            "28/28 [==============================] - 2s 72ms/step - loss: 1.0981 - accuracy: 0.3613 - val_loss: 1.0978 - val_accuracy: 0.3610\n",
            "Epoch 37/100\n",
            "28/28 [==============================] - 2s 73ms/step - loss: 1.0951 - accuracy: 0.3750 - val_loss: 1.0977 - val_accuracy: 0.3610\n",
            "Epoch 38/100\n",
            "28/28 [==============================] - 2s 72ms/step - loss: 1.0964 - accuracy: 0.3750 - val_loss: 1.0972 - val_accuracy: 0.3610\n",
            "Epoch 39/100\n",
            "28/28 [==============================] - 2s 74ms/step - loss: 1.0947 - accuracy: 0.3750 - val_loss: 1.0977 - val_accuracy: 0.3610\n",
            "Epoch 40/100\n",
            "28/28 [==============================] - 2s 74ms/step - loss: 1.0953 - accuracy: 0.3750 - val_loss: 1.0972 - val_accuracy: 0.3610\n",
            "Epoch 41/100\n",
            "28/28 [==============================] - 2s 72ms/step - loss: 1.0949 - accuracy: 0.3750 - val_loss: 1.0975 - val_accuracy: 0.3610\n",
            "Epoch 42/100\n",
            "28/28 [==============================] - 2s 77ms/step - loss: 1.0950 - accuracy: 0.3750 - val_loss: 1.0997 - val_accuracy: 0.3610\n",
            "Epoch 43/100\n",
            "28/28 [==============================] - 2s 71ms/step - loss: 1.0956 - accuracy: 0.3750 - val_loss: 1.0975 - val_accuracy: 0.3610\n",
            "Epoch 44/100\n",
            "28/28 [==============================] - 2s 72ms/step - loss: 1.0953 - accuracy: 0.3750 - val_loss: 1.0977 - val_accuracy: 0.3610\n",
            "Epoch 45/100\n",
            "28/28 [==============================] - 2s 75ms/step - loss: 1.0951 - accuracy: 0.3750 - val_loss: 1.0967 - val_accuracy: 0.3610\n",
            "Epoch 46/100\n",
            "28/28 [==============================] - 2s 74ms/step - loss: 1.0952 - accuracy: 0.3750 - val_loss: 1.0970 - val_accuracy: 0.3610\n",
            "Epoch 47/100\n",
            "28/28 [==============================] - 2s 72ms/step - loss: 1.0953 - accuracy: 0.3750 - val_loss: 1.0969 - val_accuracy: 0.3610\n",
            "Epoch 48/100\n",
            "28/28 [==============================] - 2s 73ms/step - loss: 1.0953 - accuracy: 0.3750 - val_loss: 1.0968 - val_accuracy: 0.3610\n",
            "Epoch 49/100\n",
            "28/28 [==============================] - 2s 72ms/step - loss: 1.0950 - accuracy: 0.3750 - val_loss: 1.0975 - val_accuracy: 0.3610\n",
            "Epoch 50/100\n",
            "28/28 [==============================] - 2s 73ms/step - loss: 1.0956 - accuracy: 0.3750 - val_loss: 1.0985 - val_accuracy: 0.3610\n",
            "Epoch 51/100\n",
            "28/28 [==============================] - 2s 73ms/step - loss: 1.0949 - accuracy: 0.3750 - val_loss: 1.0971 - val_accuracy: 0.3610\n",
            "Epoch 52/100\n",
            "28/28 [==============================] - 2s 74ms/step - loss: 1.0950 - accuracy: 0.3750 - val_loss: 1.0976 - val_accuracy: 0.3610\n",
            "Epoch 53/100\n",
            "28/28 [==============================] - 2s 73ms/step - loss: 1.0949 - accuracy: 0.3750 - val_loss: 1.0972 - val_accuracy: 0.3610\n",
            "Epoch 54/100\n",
            "28/28 [==============================] - 2s 72ms/step - loss: 1.0969 - accuracy: 0.3569 - val_loss: 1.0981 - val_accuracy: 0.3610\n",
            "Epoch 55/100\n",
            "28/28 [==============================] - 2s 72ms/step - loss: 1.0964 - accuracy: 0.3750 - val_loss: 1.0971 - val_accuracy: 0.3610\n",
            "Epoch 56/100\n",
            "28/28 [==============================] - 2s 73ms/step - loss: 1.0951 - accuracy: 0.3750 - val_loss: 1.0968 - val_accuracy: 0.3610\n",
            "Epoch 57/100\n",
            "28/28 [==============================] - 2s 71ms/step - loss: 1.0943 - accuracy: 0.3750 - val_loss: 1.0972 - val_accuracy: 0.3610\n",
            "Epoch 58/100\n",
            "28/28 [==============================] - 2s 73ms/step - loss: 1.0947 - accuracy: 0.3750 - val_loss: 1.0970 - val_accuracy: 0.3610\n",
            "Epoch 59/100\n",
            "28/28 [==============================] - 2s 75ms/step - loss: 1.0950 - accuracy: 0.3750 - val_loss: 1.0979 - val_accuracy: 0.3610\n",
            "Epoch 60/100\n",
            "28/28 [==============================] - 2s 72ms/step - loss: 1.0954 - accuracy: 0.3750 - val_loss: 1.0968 - val_accuracy: 0.3610\n",
            "Epoch 61/100\n",
            "28/28 [==============================] - 2s 71ms/step - loss: 1.0949 - accuracy: 0.3750 - val_loss: 1.0985 - val_accuracy: 0.3610\n",
            "Epoch 62/100\n",
            "28/28 [==============================] - 2s 73ms/step - loss: 1.0946 - accuracy: 0.3750 - val_loss: 1.0969 - val_accuracy: 0.3610\n",
            "Epoch 63/100\n",
            "28/28 [==============================] - 2s 73ms/step - loss: 1.0951 - accuracy: 0.3750 - val_loss: 1.0976 - val_accuracy: 0.3610\n",
            "Epoch 64/100\n",
            "28/28 [==============================] - 2s 73ms/step - loss: 1.0949 - accuracy: 0.3750 - val_loss: 1.0976 - val_accuracy: 0.3610\n",
            "Epoch 65/100\n",
            "28/28 [==============================] - 2s 73ms/step - loss: 1.0953 - accuracy: 0.3750 - val_loss: 1.0971 - val_accuracy: 0.3610\n",
            "Epoch 66/100\n",
            "28/28 [==============================] - 2s 73ms/step - loss: 1.0952 - accuracy: 0.3750 - val_loss: 1.0973 - val_accuracy: 0.3610\n",
            "Epoch 67/100\n",
            "28/28 [==============================] - 2s 72ms/step - loss: 1.0945 - accuracy: 0.3750 - val_loss: 1.0973 - val_accuracy: 0.3610\n",
            "Epoch 68/100\n",
            "28/28 [==============================] - 2s 71ms/step - loss: 1.0945 - accuracy: 0.3750 - val_loss: 1.0970 - val_accuracy: 0.3610\n",
            "Epoch 69/100\n",
            "28/28 [==============================] - 2s 73ms/step - loss: 1.0941 - accuracy: 0.3750 - val_loss: 1.0970 - val_accuracy: 0.3610\n",
            "Epoch 70/100\n",
            "28/28 [==============================] - 2s 74ms/step - loss: 1.0943 - accuracy: 0.3750 - val_loss: 1.0977 - val_accuracy: 0.3610\n",
            "Epoch 71/100\n",
            "28/28 [==============================] - 2s 74ms/step - loss: 1.0949 - accuracy: 0.3750 - val_loss: 1.0973 - val_accuracy: 0.3610\n",
            "Epoch 72/100\n",
            "28/28 [==============================] - 2s 75ms/step - loss: 1.0943 - accuracy: 0.3750 - val_loss: 1.0974 - val_accuracy: 0.3610\n",
            "Epoch 73/100\n",
            "28/28 [==============================] - 2s 74ms/step - loss: 1.0942 - accuracy: 0.3750 - val_loss: 1.0972 - val_accuracy: 0.3610\n",
            "Epoch 74/100\n",
            "28/28 [==============================] - 2s 74ms/step - loss: 1.0942 - accuracy: 0.3750 - val_loss: 1.0974 - val_accuracy: 0.3610\n",
            "Epoch 75/100\n",
            "28/28 [==============================] - 2s 73ms/step - loss: 1.0942 - accuracy: 0.3750 - val_loss: 1.0971 - val_accuracy: 0.3610\n",
            "Epoch 76/100\n",
            "28/28 [==============================] - 2s 73ms/step - loss: 1.0947 - accuracy: 0.3750 - val_loss: 1.0971 - val_accuracy: 0.3610\n",
            "Epoch 77/100\n",
            "28/28 [==============================] - 2s 73ms/step - loss: 1.0942 - accuracy: 0.3750 - val_loss: 1.0970 - val_accuracy: 0.3610\n",
            "Epoch 78/100\n",
            "28/28 [==============================] - 2s 74ms/step - loss: 1.0951 - accuracy: 0.3750 - val_loss: 1.0969 - val_accuracy: 0.3610\n",
            "Epoch 79/100\n",
            "28/28 [==============================] - 2s 76ms/step - loss: 1.0946 - accuracy: 0.3750 - val_loss: 1.0972 - val_accuracy: 0.3610\n",
            "Epoch 80/100\n",
            "28/28 [==============================] - 2s 74ms/step - loss: 1.0942 - accuracy: 0.3750 - val_loss: 1.0973 - val_accuracy: 0.3610\n",
            "Epoch 81/100\n",
            "28/28 [==============================] - 2s 73ms/step - loss: 1.0944 - accuracy: 0.3750 - val_loss: 1.0975 - val_accuracy: 0.3610\n",
            "Epoch 82/100\n",
            "28/28 [==============================] - 2s 72ms/step - loss: 1.0945 - accuracy: 0.3750 - val_loss: 1.0973 - val_accuracy: 0.3610\n",
            "Epoch 83/100\n",
            "28/28 [==============================] - 2s 71ms/step - loss: 1.0944 - accuracy: 0.3750 - val_loss: 1.0973 - val_accuracy: 0.3610\n",
            "Epoch 84/100\n",
            "28/28 [==============================] - 2s 72ms/step - loss: 1.0943 - accuracy: 0.3750 - val_loss: 1.0971 - val_accuracy: 0.3610\n",
            "Epoch 85/100\n",
            "28/28 [==============================] - 2s 73ms/step - loss: 1.0944 - accuracy: 0.3750 - val_loss: 1.0974 - val_accuracy: 0.3610\n",
            "Epoch 86/100\n",
            "28/28 [==============================] - 2s 75ms/step - loss: 1.0942 - accuracy: 0.3750 - val_loss: 1.0969 - val_accuracy: 0.3610\n",
            "Epoch 87/100\n",
            "28/28 [==============================] - 2s 74ms/step - loss: 1.0943 - accuracy: 0.3750 - val_loss: 1.0973 - val_accuracy: 0.3610\n",
            "Epoch 88/100\n",
            "28/28 [==============================] - 2s 72ms/step - loss: 1.0945 - accuracy: 0.3750 - val_loss: 1.0975 - val_accuracy: 0.3610\n",
            "Epoch 89/100\n",
            "28/28 [==============================] - 2s 83ms/step - loss: 1.0939 - accuracy: 0.3750 - val_loss: 1.0969 - val_accuracy: 0.3610\n",
            "Epoch 90/100\n",
            "28/28 [==============================] - 2s 81ms/step - loss: 1.0941 - accuracy: 0.3750 - val_loss: 1.0972 - val_accuracy: 0.3610\n",
            "Epoch 91/100\n",
            "28/28 [==============================] - 2s 79ms/step - loss: 1.0943 - accuracy: 0.3750 - val_loss: 1.0971 - val_accuracy: 0.3610\n",
            "Epoch 92/100\n",
            "28/28 [==============================] - 3s 96ms/step - loss: 1.0943 - accuracy: 0.3750 - val_loss: 1.0973 - val_accuracy: 0.3610\n",
            "Epoch 93/100\n",
            "28/28 [==============================] - 2s 86ms/step - loss: 1.0943 - accuracy: 0.3750 - val_loss: 1.0973 - val_accuracy: 0.3610\n",
            "Epoch 94/100\n",
            "28/28 [==============================] - 2s 79ms/step - loss: 1.0944 - accuracy: 0.3750 - val_loss: 1.0973 - val_accuracy: 0.3610\n",
            "Epoch 95/100\n",
            "28/28 [==============================] - 2s 76ms/step - loss: 1.0947 - accuracy: 0.3750 - val_loss: 1.0970 - val_accuracy: 0.3610\n",
            "Epoch 96/100\n",
            "28/28 [==============================] - 2s 73ms/step - loss: 1.0946 - accuracy: 0.3750 - val_loss: 1.0974 - val_accuracy: 0.3610\n",
            "Epoch 97/100\n",
            "28/28 [==============================] - 2s 73ms/step - loss: 1.0942 - accuracy: 0.3750 - val_loss: 1.0974 - val_accuracy: 0.3610\n",
            "Epoch 98/100\n",
            "28/28 [==============================] - 2s 72ms/step - loss: 1.0943 - accuracy: 0.3750 - val_loss: 1.0971 - val_accuracy: 0.3610\n",
            "Epoch 99/100\n",
            "28/28 [==============================] - 2s 74ms/step - loss: 1.0941 - accuracy: 0.3750 - val_loss: 1.0970 - val_accuracy: 0.3610\n",
            "Epoch 100/100\n",
            "28/28 [==============================] - 2s 72ms/step - loss: 1.0942 - accuracy: 0.3750 - val_loss: 1.0975 - val_accuracy: 0.3610\n"
          ]
        }
      ],
      "source": [
        "# Обучаем модель\n",
        "history = model.fit(Xz[0:1384], Yz[0:1384], batch_size=BATCH_SIZE,validation_data=(Xz[1384:1661], Yz[1384:1661]), epochs=EPOCHS)\n"
      ]
    },
    {
      "cell_type": "code",
      "execution_count": null,
      "metadata": {
        "id": "LYLrt1bFDcRJ",
        "colab": {
          "base_uri": "https://localhost:8080/",
          "height": 449
        },
        "outputId": "9d403532-c363-4876-c421-1de187be2b45"
      },
      "outputs": [
        {
          "output_type": "display_data",
          "data": {
            "text/plain": [
              "<Figure size 640x480 with 1 Axes>"
            ],
            "image/png": "[encoded data removed]"
          },
          "metadata": {}
        }
      ],
      "source": [
        "# Создаем график процесса обучения\n",
        "import matplotlib.pyplot as plt\n",
        "history_dict = history.history\n",
        "acc_values = history_dict['accuracy']\n",
        "val_acc_values = history_dict['val_accuracy']\n",
        "epochs = range(1, len(acc_values) + 1)\n",
        "plt.plot(epochs, acc_values, 'r', label='Training acc')\n",
        "plt.plot(epochs, val_acc_values, 'b', label='Validation acc')\n",
        "plt.xlabel('Epochs')\n",
        "plt.ylabel('Accuracy')\n",
        "plt.legend()\n",
        "plt.show()"
      ]
    },
    {
      "cell_type": "code",
      "source": [
        "# вычисляем f1 метрику для тестовой выборки\n",
        "from sklearn.metrics import f1_score\n",
        "pred = model.predict(Xz[1661:1730])\n",
        "trues = Yz[1661:1730]\n",
        "print('f1 score for test sample')\n",
        "f1_score(np.argmax(trues, axis=1), np.argmax(pred, axis=1), average=None)"
      ],
      "metadata": {
        "colab": {
          "base_uri": "https://localhost:8080/"
        },
        "id": "BxuT-rfaw9Fi",
        "outputId": "162dfdad-1886-4e70-fe4e-0a5c9b0bf528"
      },
      "execution_count": null,
      "outputs": [
        {
          "output_type": "stream",
          "name": "stdout",
          "text": [
            "3/3 [==============================] - 2s 283ms/step\n",
            "f1 score for test sample\n"
          ]
        },
        {
          "output_type": "execute_result",
          "data": {
            "text/plain": [
              "array([0.48351648, 0.        , 0.        ])"
            ]
          },
          "metadata": {},
          "execution_count": 83
        }
      ]
    },
    {
      "cell_type": "code",
      "source": [
        "from sklearn.metrics import accuracy_score\n",
        "pred = model.predict(Xz[1661:1730])\n",
        "trues = Yz[1661:1730]\n",
        "accuracy_score(np.argmax(trues, axis=1), np.argmax(pred, axis=1))"
      ],
      "metadata": {
        "colab": {
          "base_uri": "https://localhost:8080/"
        },
        "id": "pUc0jSiX7aGz",
        "outputId": "4f6d20cf-239a-445b-94c1-1cbd433c0591"
      },
      "execution_count": null,
      "outputs": [
        {
          "output_type": "stream",
          "name": "stdout",
          "text": [
            "3/3 [==============================] - 0s 17ms/step\n"
          ]
        },
        {
          "output_type": "execute_result",
          "data": {
            "text/plain": [
              "0.3188405797101449"
            ]
          },
          "metadata": {},
          "execution_count": 84
        }
      ]
    },
    {
      "cell_type": "markdown",
      "source": [
        "**Использование предобученнорй сети**"
      ],
      "metadata": {
        "id": "knTN0mr7aglT"
      }
    },
    {
      "cell_type": "code",
      "source": [
        "# model.save('/contentmy_model.h5')\n"
      ],
      "metadata": {
        "id": "1fZdLVlAc5bm"
      },
      "execution_count": null,
      "outputs": []
    },
    {
      "cell_type": "code",
      "source": [
        "# загуржаем готовую сеть\n",
        "new_model = tf.keras.models.load_model('my_model.h5')\n"
      ],
      "metadata": {
        "id": "QmXJ1yBIafaU"
      },
      "execution_count": null,
      "outputs": []
    },
    {
      "cell_type": "code",
      "source": [
        "#f1 метрика на тестовой выборке\n",
        "from sklearn.metrics import f1_score\n",
        "pred = new_model.predict(new_X[4500:5934])\n",
        "trues = dummy_y[4500:5934]\n",
        "f1_score(np.argmax(trues, axis=1), np.argmax(pred, axis=1), average=None)"
      ],
      "metadata": {
        "colab": {
          "base_uri": "https://localhost:8080/"
        },
        "id": "SPl8tXutdnNf",
        "outputId": "8ea7af1c-fb45-4bf6-fc6c-185236e1fef2"
      },
      "execution_count": null,
      "outputs": [
        {
          "output_type": "execute_result",
          "data": {
            "text/plain": [
              "array([0.88709677, 0.82632541, 0.86655113])"
            ]
          },
          "metadata": {},
          "execution_count": 54
        }
      ]
    },
    {
      "cell_type": "code",
      "source": [
        "#accuracy метрика на обучающей выборке\n",
        "loss, acc = new_model.evaluate(new_X[0:4500], dummy_y[0:4500], verbose=2)\n",
        "print(\"Restored model, learning accuracy: {:5.2f}%\".format(100 * acc))\n"
      ],
      "metadata": {
        "colab": {
          "base_uri": "https://localhost:8080/"
        },
        "id": "7ixVVsc8dvSZ",
        "outputId": "ddca1ef5-6ea9-46c7-c3d6-40c5bf7e8f7b"
      },
      "execution_count": null,
      "outputs": [
        {
          "output_type": "stream",
          "name": "stdout",
          "text": [
            "141/141 - 2s - loss: 0.1552 - accuracy: 0.9136 - 2s/epoch - 17ms/step\n",
            "Restored model, learning accuracy: 91.36%\n"
          ]
        }
      ]
    },
    {
      "cell_type": "code",
      "source": [
        "#accuracy метрика на тестовой выборке\n",
        "loss, acc = new_model.evaluate(new_X[5400:5934], dummy_y[5400:5934], verbose=2)\n",
        "print(\"Restored model, test accuracy: {:5.2f}%\".format(100 * acc))\n"
      ],
      "metadata": {
        "colab": {
          "base_uri": "https://localhost:8080/"
        },
        "id": "FJZh-OOeeOjR",
        "outputId": "637d3ef3-3cef-4283-ed27-85925fa0898f"
      },
      "execution_count": null,
      "outputs": [
        {
          "output_type": "stream",
          "name": "stdout",
          "text": [
            "17/17 - 1s - loss: 2.0152 - accuracy: 0.8371 - 746ms/epoch - 44ms/step\n",
            "Restored model, test accuracy: 83.71%\n"
          ]
        }
      ]
    },
    {
      "cell_type": "code",
      "source": [
        "#f1 метрика на валидационной выборке\n",
        "loss, acc = new_model.evaluate(new_X[4500:5934], dummy_y[4500:5934], verbose=2)\n",
        "print(\"Restored model, validation accuracy: {:5.2f}%\".format(100 * acc))"
      ],
      "metadata": {
        "colab": {
          "base_uri": "https://localhost:8080/"
        },
        "id": "xF1rXXz4ee4w",
        "outputId": "1b98fbd0-6f78-43c7-900f-2debc49e8768"
      },
      "execution_count": null,
      "outputs": [
        {
          "output_type": "stream",
          "name": "stdout",
          "text": [
            "45/45 - 1s - loss: 1.8091 - accuracy: 0.8556 - 801ms/epoch - 18ms/step\n",
            "Restored model, validation accuracy: 85.56%\n"
          ]
        }
      ]
    }
  ],
  "metadata": {
    "colab": {
      "provenance": [],
      "gpuType": "T4"
    },
    "kernelspec": {
      "display_name": "Python 3",
      "name": "python3"
    },
    "language_info": {
      "name": "python"
    },
    "accelerator": "GPU"
  },
  "nbformat": 4,
  "nbformat_minor": 0
}